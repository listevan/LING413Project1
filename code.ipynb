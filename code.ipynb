{
 "cells": [
  {
   "cell_type": "code",
   "execution_count": null,
   "id": "c52ea531",
   "metadata": {},
   "outputs": [
    {
     "name": "stderr",
     "output_type": "stream",
     "text": [
      "/opt/miniconda3/envs/LING413/lib/python3.13/site-packages/tqdm/auto.py:21: TqdmWarning: IProgress not found. Please update jupyter and ipywidgets. See https://ipywidgets.readthedocs.io/en/stable/user_install.html\n",
      "  from .autonotebook import tqdm as notebook_tqdm\n",
      "Generating train split: 100%|██████████| 25000/25000 [00:00<00:00, 488061.63 examples/s]\n",
      "Generating test split: 100%|██████████| 25000/25000 [00:00<00:00, 672474.48 examples/s]\n",
      "Generating unsupervised split: 100%|██████████| 50000/50000 [00:00<00:00, 820719.61 examples/s]\n"
     ]
    }
   ],
   "source": [
    "from datasets import load_dataset\n",
    "imdb_dataset = load_dataset(\"imdb\")\n",
    "NUM_CLASSES = "
   ]
  },
  {
   "cell_type": "code",
   "execution_count": 2,
   "id": "ca5aeaa5",
   "metadata": {},
   "outputs": [],
   "source": [
    "from transformers import AutoTokenizer\n",
    "tokenizer = AutoTokenizer.from_pretrained(\"bert-base-uncased\")"
   ]
  },
  {
   "cell_type": "code",
   "execution_count": 3,
   "id": "65d192c0",
   "metadata": {},
   "outputs": [
    {
     "name": "stderr",
     "output_type": "stream",
     "text": [
      "Map: 100%|██████████| 25000/25000 [00:04<00:00, 5902.08 examples/s]\n",
      "Map: 100%|██████████| 25000/25000 [00:04<00:00, 6159.35 examples/s]\n",
      "Map: 100%|██████████| 50000/50000 [00:08<00:00, 5947.56 examples/s]\n"
     ]
    }
   ],
   "source": [
    "def preprocess_function(examples):\n",
    "    return tokenizer(examples[\"text\"], truncation=True, padding=\"max_length\", max_length=512)\n",
    "\n",
    "tokenized_dataset = imdb_dataset.map(preprocess_function, batched=True)"
   ]
  },
  {
   "cell_type": "code",
   "execution_count": null,
   "id": "93fa6039",
   "metadata": {},
   "outputs": [],
   "source": [
    "from transformers import AutoModelForSequenceClassification\n",
    "model = AutoModelForSequenceClassification.from_pretrained(\n",
    "    \"bert-base-uncased\", num_labels=NUM_CLASSES\n",
    ")"
   ]
  },
  {
   "cell_type": "code",
   "execution_count": null,
   "id": "44363210",
   "metadata": {},
   "outputs": [],
   "source": [
    "import torch.nn as nn\n",
    "from transformers import BertModel\n",
    "\n",
    "class RegisterClassifier(nn.Module):\n",
    "    def __init__(self, n_classes):\n",
    "        super(RegisterClassifier, self).__init__()\n",
    "        # Load the pretrained BERT model\n",
    "        self.bert = BertModel.from_pretrained('bert-base-uncased')\n",
    "        \n",
    "        # Dropout layer for regularization\n",
    "        self.drop = nn.Dropout(p=0.3)\n",
    "        \n",
    "        # Fully-connected layer for classification\n",
    "        self.out = nn.Linear(self.bert.config.hidden_size, n_classes)\n",
    "\n",
    "    def forward(self, input_ids, attention_mask):\n",
    "        # Pass inputs through BERT\n",
    "        outputs = self.bert(\n",
    "            input_ids=input_ids,\n",
    "            attention_mask=attention_mask\n",
    "        )\n",
    "        \n",
    "        # Use the pooled output of the token for classification\n",
    "        pooled_output = outputs.pooler_output\n",
    "        \n",
    "        # Apply dropout and the final classification layer\n",
    "        output = self.drop(pooled_output)\n",
    "        return self.out(output)"
   ]
  },
  {
   "cell_type": "code",
   "execution_count": null,
   "id": "c2cd21b5",
   "metadata": {},
   "outputs": [],
   "source": [
    "from transformers import TrainingArguments, Trainer\n",
    "\n",
    "training_args = TrainingArguments(\n",
    "    output_dir=\"./results\",\n",
    "    learning_rate=2e-5,\n",
    "    per_device_train_batch_size=16,\n",
    "    num_train_epochs=3,\n",
    "    weight_decay=0.01,\n",
    "    evaluation_strategy=\"epoch\",\n",
    ")\n",
    "\n",
    "trainer = Trainer(\n",
    "    model=model,\n",
    "    args=training_args,\n",
    "    train_dataset=tokenized_dataset[\"train\"],\n",
    "    eval_dataset=tokenized_dataset[\"test\"],\n",
    "    tokenizer=tokenizer,\n",
    ")\n",
    "\n",
    "trainer.train()"
   ]
  },
  {
   "cell_type": "code",
   "execution_count": null,
   "id": "08cbb71a",
   "metadata": {},
   "outputs": [],
   "source": [
    "import torch\n",
    "# Assuming 'model' is your trained PyTorch model\n",
    "# and 'output_dir' is the directory to save the model\n",
    "output_dir = \"model_weights\"\n",
    "model_save_path = f\"{output_dir}/final_model_weights.pth\"\n",
    "torch.save(model.state_dict(), model_save_path)"
   ]
  },
  {
   "cell_type": "code",
   "execution_count": null,
   "id": "e2a9cb56",
   "metadata": {},
   "outputs": [],
   "source": [
    "from transformers import AutoModelForSequenceClassification\n",
    "\n",
    "# Instantiate the same model architecture\n",
    "model = AutoModelForSequenceClassification.from_pretrained(\n",
    "    \"bert-base-uncased\", num_labels=NUM_CLASSES\n",
    ")\n",
    "\n",
    "# Load the saved weights\n",
    "model.load_state_dict(torch.load(model_save_path))\n",
    "\n",
    "# Set the model to evaluation mode\n",
    "model.eval()"
   ]
  },
  {
   "cell_type": "code",
   "execution_count": null,
   "id": "a655d9dd",
   "metadata": {},
   "outputs": [],
   "source": [
    "import torch\n",
    "import numpy as np\n",
    "import pandas as pd\n",
    "from sklearn.metrics import classification_report\n",
    "\n",
    "# Assume 'model' is loaded and in eval mode, and 'test_loader' is ready\n",
    "device = torch.device(\"cuda\" if torch.cuda.is_available() else \"cpu\")\n",
    "model.to(device)\n",
    "\n",
    "all_preds =\n",
    "all_labels =\n",
    "\n",
    "test_loader = \n",
    "\n",
    "with torch.no_grad():\n",
    "    for batch in test_loader:\n",
    "        input_ids = batch['input_ids'].to(device)\n",
    "        attention_mask = batch['attention_mask'].to(device)\n",
    "        labels = batch['labels'].to(device)\n",
    "        \n",
    "        outputs = model(input_ids, attention_mask=attention_mask)\n",
    "        logits = outputs.logits\n",
    "        \n",
    "        preds = torch.argmax(logits, dim=1)\n",
    "        \n",
    "        all_preds.extend(preds.cpu().numpy())\n",
    "        all_labels.extend(labels.cpu().numpy())\n",
    "\n",
    "# Generate the classification report\n",
    "# 'target_names' should be a list of your class names\n",
    "report = classification_report(all_labels, all_preds, target_names=class_names, output_dict=True)\n",
    "\n",
    "# Convert the report to a pandas DataFrame and save as a CSV file [64]\n",
    "report_df = pd.DataFrame(report).transpose()\n",
    "report_df.to_csv(f\"{output_dir}/classification_report.csv\")\n",
    "\n",
    "print(\"Classification Report:\")\n",
    "print(report_df)"
   ]
  },
  {
   "cell_type": "code",
   "execution_count": null,
   "id": "8dc2629d",
   "metadata": {},
   "outputs": [],
   "source": [
    "import torch\n",
    "import numpy as np\n",
    "import pandas as pd\n",
    "from sklearn.metrics import classification_report\n",
    "\n",
    "# Assume 'model' is loaded and in eval mode, and 'test_loader' is ready\n",
    "device = torch.device(\"cuda\" if torch.cuda.is_available() else \"cpu\")\n",
    "model.to(device)\n",
    "\n",
    "all_preds =\n",
    "all_labels =\n",
    "\n",
    "with torch.no_grad():\n",
    "    for batch in test_loader:\n",
    "        input_ids = batch['input_ids'].to(device)\n",
    "        attention_mask = batch['attention_mask'].to(device)\n",
    "        labels = batch['labels'].to(device)\n",
    "        \n",
    "        outputs = model(input_ids, attention_mask=attention_mask)\n",
    "        logits = outputs.logits\n",
    "        \n",
    "        preds = torch.argmax(logits, dim=1)\n",
    "        \n",
    "        all_preds.extend(preds.cpu().numpy())\n",
    "        all_labels.extend(labels.cpu().numpy())\n",
    "\n",
    "# Generate the classification report\n",
    "# 'target_names' should be a list of your class names\n",
    "report = classification_report(all_labels, all_preds, target_names=class_names, output_dict=True)\n",
    "\n",
    "# Convert the report to a pandas DataFrame and save as a CSV file [64]\n",
    "report_df = pd.DataFrame(report).transpose()\n",
    "report_df.to_csv(f\"{output_dir}/classification_report.csv\")\n",
    "\n",
    "print(\"Classification Report:\")\n",
    "print(report_df)"
   ]
  },
  {
   "cell_type": "code",
   "execution_count": null,
   "id": "98dadd70",
   "metadata": {},
   "outputs": [],
   "source": [
    "import torch.nn as nn\n",
    "\n",
    "class MLPClassifier(nn.Module):\n",
    "    def __init__(self, vocab_size, embed_dim, hidden_dim, num_class):\n",
    "        super(MLPClassifier, self).__init__()\n",
    "        self.embedding = nn.Embedding(vocab_size, embed_dim)\n",
    "        self.fc1 = nn.Linear(embed_dim, hidden_dim)\n",
    "        self.relu = nn.ReLU()\n",
    "        self.fc2 = nn.Linear(hidden_dim, num_class)\n",
    "\n",
    "    def forward(self, text):\n",
    "        # text shape: (batch_size, seq_len)\n",
    "        embedded = self.embedding(text)\n",
    "        # Average the embeddings of all words in a sentence\n",
    "        pooled = embedded.mean(dim=1)\n",
    "        # Pass through linear layers\n",
    "        hidden = self.relu(self.fc1(pooled))\n",
    "        return self.fc2(hidden)"
   ]
  },
  {
   "cell_type": "code",
   "execution_count": null,
   "id": "4f1c14e0",
   "metadata": {},
   "outputs": [],
   "source": [
    "import torch.nn as nn\n",
    "import torch.nn.functional as F\n",
    "\n",
    "class CNNTextClassifier(nn.Module):\n",
    "    def __init__(self, vocab_size, embed_dim, num_class, num_filters, filter_sizes):\n",
    "        super(CNNTextClassifier, self).__init__()\n",
    "        self.embedding = nn.Embedding(vocab_size, embed_dim, padding_idx=0)\n",
    "        \n",
    "        self.convs = nn.ModuleList([\n",
    "            nn.Conv2d(in_channels=1, \n",
    "                      out_channels=num_filters, \n",
    "                      kernel_size=(fs, embed_dim)) \n",
    "            for fs in filter_sizes\n",
    "        ])\n",
    "        \n",
    "        self.fc = nn.Linear(len(filter_sizes) * num_filters, num_class)\n",
    "        self.dropout = nn.Dropout(0.5)\n",
    "\n",
    "    def forward(self, text):\n",
    "        # text shape: (batch_size, seq_len)\n",
    "        embedded = self.embedding(text)\n",
    "        # embedded shape: (batch_size, seq_len, embed_dim)\n",
    "        \n",
    "        embedded = embedded.unsqueeze(1)\n",
    "        # embedded shape: (batch_size, 1, seq_len, embed_dim)\n",
    "        \n",
    "        conved = [F.relu(conv(embedded)).squeeze(3) for conv in self.convs]\n",
    "        # conved[i] shape: (batch_size, num_filters, seq_len - filter_sizes[i] + 1)\n",
    "        \n",
    "        pooled = [F.max_pool1d(conv, conv.shape[2]).squeeze(2) for conv in conved]\n",
    "        # pooled[i] shape: (batch_size, num_filters)\n",
    "        \n",
    "        cat = self.dropout(torch.cat(pooled, dim=1))\n",
    "        # cat shape: (batch_size, num_filters * len(filter_sizes))\n",
    "        \n",
    "        return self.fc(cat)"
   ]
  }
 ],
 "metadata": {
  "kernelspec": {
   "display_name": "LING413",
   "language": "python",
   "name": "python3"
  },
  "language_info": {
   "codemirror_mode": {
    "name": "ipython",
    "version": 3
   },
   "file_extension": ".py",
   "mimetype": "text/x-python",
   "name": "python",
   "nbconvert_exporter": "python",
   "pygments_lexer": "ipython3",
   "version": "3.13.5"
  }
 },
 "nbformat": 4,
 "nbformat_minor": 5
}
